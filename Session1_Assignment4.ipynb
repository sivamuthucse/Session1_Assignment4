{
 "cells": [
  {
   "cell_type": "code",
   "execution_count": 2,
   "metadata": {},
   "outputs": [
    {
     "name": "stdout",
     "output_type": "stream",
     "text": [
      "Volume is:  7241.142857142857\n"
     ]
    }
   ],
   "source": [
    "# Question :\n",
    "\n",
    "# Write a Python Program to find the volume of a sphere with diameter 12 cm\n",
    "\n",
    "# Formula : v=4/3*π*r3\n",
    "\n",
    "#Solution :\n",
    "\n",
    "pi = 22/7\n",
    "radian = 12\n",
    "volume = (4/3) * (pi * radian ** 3)\n",
    "print(\"Volume is: \", volume)"
   ]
  },
  {
   "attachments": {},
   "cell_type": "markdown",
   "metadata": {},
   "source": []
  }
 ],
 "metadata": {
  "kernelspec": {
   "display_name": "Python 3",
   "language": "python",
   "name": "python3"
  },
  "language_info": {
   "codemirror_mode": {
    "name": "ipython",
    "version": 3
   },
   "file_extension": ".py",
   "mimetype": "text/x-python",
   "name": "python",
   "nbconvert_exporter": "python",
   "pygments_lexer": "ipython3",
   "version": "3.6.2"
  }
 },
 "nbformat": 4,
 "nbformat_minor": 2
}
